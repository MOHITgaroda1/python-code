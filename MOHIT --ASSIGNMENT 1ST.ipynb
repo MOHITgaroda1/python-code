{
 "cells": [
  {
   "cell_type": "markdown",
   "id": "38f60f43",
   "metadata": {},
   "source": [
    "MOHIT GARODA"
   ]
  },
  {
   "cell_type": "markdown",
   "id": "fcc581cd",
   "metadata": {},
   "source": [
    "# 1."
   ]
  },
  {
   "cell_type": "code",
   "execution_count": 2,
   "id": "83931e43",
   "metadata": {},
   "outputs": [
    {
     "name": "stdout",
     "output_type": "stream",
     "text": [
      "Enter 1st number :6\n",
      "Enter 2nd number :7\n",
      "Enter 3rd number :8\n",
      "6 7 8\n",
      "6 8 7\n",
      "7 6 8\n",
      "7 8 6\n",
      "8 6 7\n",
      "8 7 6\n"
     ]
    }
   ],
   "source": [
    "a = int(input(\"Enter 1st number :\"))\n",
    "b = int(input(\"Enter 2nd number :\"))\n",
    "c = int(input(\"Enter 3rd number :\"))\n",
    "d=[]\n",
    "\n",
    "d.append(a)\n",
    "d.append(b)\n",
    "d.append(c)\n",
    "\n",
    "#find combination loop\n",
    "for n in range (0,3):\n",
    "    for l in range (0,3):\n",
    "        for t in range (0,3):\n",
    "            if(n!=l & l!=t &t!=n):\n",
    "                print(d[n],d[l],d[t])"
   ]
  },
  {
   "cell_type": "markdown",
   "id": "d9c671db",
   "metadata": {},
   "source": [
    "# 2."
   ]
  },
  {
   "cell_type": "code",
   "execution_count": 2,
   "id": "64eb95ca",
   "metadata": {},
   "outputs": [
    {
     "name": "stdout",
     "output_type": "stream",
     "text": [
      "Enter the String:I like to learn\n",
      "Char to replace:k\n",
      "I li e to learn\n"
     ]
    }
   ],
   "source": [
    "def remove_char(s1,s2):\n",
    "    print(s1.replace(s2,\" \"))\n",
    "    \n",
    "s1 = input(\"Enter the String:\")\n",
    "s2 = input(\"Char to replace:\")\n",
    "remove_char(s1,s2)"
   ]
  },
  {
   "cell_type": "code",
   "execution_count": null,
   "id": "43558d82",
   "metadata": {},
   "outputs": [],
   "source": []
  }
 ],
 "metadata": {
  "kernelspec": {
   "display_name": "Python 3 (ipykernel)",
   "language": "python",
   "name": "python3"
  },
  "language_info": {
   "codemirror_mode": {
    "name": "ipython",
    "version": 3
   },
   "file_extension": ".py",
   "mimetype": "text/x-python",
   "name": "python",
   "nbconvert_exporter": "python",
   "pygments_lexer": "ipython3",
   "version": "3.10.7"
  }
 },
 "nbformat": 4,
 "nbformat_minor": 5
}
